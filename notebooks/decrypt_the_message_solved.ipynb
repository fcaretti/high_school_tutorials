{
  "cells": [
    {
      "cell_type": "markdown",
      "metadata": {
        "id": "XHZCEMRF0W3_"
      },
      "source": [
        "## Benvenuto, iniziamo!\n",
        "\n",
        "Questo è un **Notebook in Python**, cioè uno strumento interattivo per scrivere ed eseguire del codice in modo dinamico. È composto da *celle* che possono contenere testo (come questa) oppure codice Python (come la prossima).\n",
        "\n",
        "Per *eseguire* i comandi in una cella, puoi:\n",
        "- cliccare sul simbolo \"Play\" a sinistra della cella, oppure\n",
        "- selezionare la cella e premere Shift + Invio sulla tastiera\n",
        "\n",
        "Se non è già stato selezionato, al primo avvio Visual Studio potrebbe chiederti con quale *kernel* eseguire il codice (in pratica... con quale \"versione\" di Python): tu seleziona *Python Environments* e poi *env*. Abbiamo configurato noi l'ambiente così da farti trovare tutte le librerie necessarie già pronte per l'uso!\n",
        "\n",
        "Perché tutto funzioni come previsto, ricordati di eseguire ogni cella di codice prima di passare alla successiva. Le variabili, funzioni e classi definite in una cella sono utilizzabili in tutto il notebook, una volta che la cella viene eseguita.\n",
        "\n",
        "Per il resto, è il solito Python. Buon lavoro! 🚀"
      ]
    },
    {
      "cell_type": "markdown",
      "metadata": {
        "id": "F3_HmzMquUfo"
      },
      "source": [
        "# Messaggi segreti\n",
        "\n",
        "Una lettera d'amore segreta, un affare riservato, una questione governativa confidenziale, una strategia militare. Per motivi che vanno dai più romantici ai più controversi, l'essere umano da ormai molto tempo costruisce e utilizza metodi per nascondere i suoi messaggi a chi non è autorizzato a comprenderli.\n",
        "\n",
        "Più di duemila anni fa veniva usato il famoso **cifrario di Cesare**, un cifrario detto **\"a sostituzione\"**. Al giorno d'oggi, invece, vengono adottati metodi crittografici molto più avanzati... I cifrari a sostituzione, infatti, sono ormai facilmente vulnerabili: con un computer moderno e qualche analisi è possibile decifrare in pochissimo tempo un messaggio cifrato con questo metodo, anche senza conoscere la chiave segreta!\n",
        "\n",
        "... Ma come?😯 Ora proverai anche tu!\n",
        "\n",
        "### Un messaggio da decifrare\n",
        "\n",
        "Hai intercettato un messaggio che sai essere stato cifrato con un cifrario a sostituzione. Il tuo obiettivo è riuscire a decifrarlo senza conoscere la chiave segreta.\n",
        "\n",
        "**Cifrario a sostituzione:** metodo di cifratura in cui ogni lettera del messaggio in chiaro viene sostituita con un'altra lettera (sempre la stessa, diversa dall'originale), secondo una tabella di sostituzione. La tabella di sostituzione è la chiave segreta.\n",
        "\n",
        "Per esempio, se la tabella di sostituzione è:\n",
        "\n",
        "| ORIGINALE | CIFRATO |\n",
        "|----------|----------|\n",
        "| A | C |\n",
        "| B | D |\n",
        "| C | E |\n",
        "|...|...|\n",
        "| I | K |\n",
        "|...|...|\n",
        "| O | P |\n",
        "|...|...|\n",
        "\n",
        "allora il messaggio \"CIAO\" viene cifrato come \"EKCQ\".\n",
        "\n",
        "Chiameremo **tabella di sostituzione inversa** la tabella che serve invece per decifrare i messaggi. Nell'esempio sopra è:\n",
        "\n",
        "| CIFRATO | ORIGINALE |\n",
        "|----------|----------|\n",
        "| C | A |\n",
        "| D | B |\n",
        "| E | C |\n",
        "|...|...|\n",
        "| K | I |\n",
        "|...|...|\n",
        "| P | O |\n",
        "|...|...|\n",
        "\n",
        "**Il messaggio:** esegui la cella sotto per scoprire il testo da decifrare."
      ]
    },
    {
      "cell_type": "code",
      "execution_count": null,
      "metadata": {
        "colab": {
          "base_uri": "https://localhost:8080/"
        },
        "id": "HZXDO-ywZ_h1",
        "outputId": "25ac351e-94bc-4e6b-cb99-54de69bffa93"
      },
      "outputs": [],
      "source": [
        "# Aggiunta di librerie necessarie al funzionamento del programma\n",
        "from collections import Counter\n",
        "import string\n",
        "\n",
        "# Lavoriamo con la lingua italiana, questa lista ci servirà dopo...\n",
        "lettere_italiane = [\"A\", \"B\", \"C\", \"D\", \"E\", \"F\", \"G\", \"H\", \"I\", \"L\", \"M\", \"N\", \"O\", \"P\", \"Q\", \"R\", \"S\", \"T\", \"U\", \"V\", \"Z\"]\n",
        "\n",
        "# Questo qui sotto è il messaggio da decifrare\n",
        "messaggio = \"FTS DTMMG RTS EQDDOF RO FGLZPQ COZQ DO POZPGCQO HTP AFQ LTSCQ GLEAPQ EI SQ ROPOZZQ COQ TPQ LDQPPOZQ QIO BAQFZG Q ROP BAQS TPQ EGLQ RAPQ TLZQ LTSCQ LTSCQUUOQ T QLHPQ T VGPZT EIT FTS HTFLOTP POFGCQ SQ HQAPQ ZQFZ QDQPQ EIT HGEG HOA DGPZT DQ HTP ZPQZZQP RTS NTF EIOO CO ZPGCQO ROPR RT OQSZPT EGLT EIOO CIG LEGPZT SG FGF LG NTF POROP EGDOO COFZPQO ZQFZTPQ HOTF RO LGFFG Q BATS HAFZG EIT SQ CTPQET COQ QNNQFRGFQO DQ HGO EIOO VAO QS HO RAF EGSST UOAFZG SQ RGCT ZTPDOFQCQ BATSSQ CQSST EIT DQCTQ RO HQAPQ OS EGP EGDHAFZG UAQPRQO OF QSZG T CORO ST LAT LHQSST CTLZOZT UOQ RT PQUUO RTS HOQFTZQ EIT DTFQ RPOZZG QSZPAO HTP GUFT EQSST QSSGP VA SQ HQAPQ AF HGEG BATZQ EIT FTS SQUG RTS EGP DTPQ RAPQZQ SQ FGZZT EIO HQLLQO EGF ZQFZQ HOTZQ T EGDT BATO EIT EGF STFQ QVVQFFQZQ ALEOZG VAGP RTS HTSQUG Q SQ POCQ LO CGSUT Q SQEBAQ HTPOUSOGLQ T UAQZQ EGLO SQFODG DOG EIQFEGP VAUUOCQ LO CGSLT Q PTZPG Q PODOPQP SG HQLLG EIT FGF SQLEOG UOQ DQO HTPLGFQ COCQ HGO EIO HGLQZG AF HGEG OS EGPHG SQLLG POHPTLO COQ HTP SQ HOQUUOQ ROLTPZQ LO EIT O HO VTPDG LTDHPT TPQ OS HOS NQLLG TR TEEG BAQLO QS EGDOFEOQP RT OTPZQ AFQ SGFMQ STUUTPQ T HPTLZQ DGSZG EIT RO HTS DQEGSQZG TPQ EGCTPZQ T FGF DO LO HQPZOQ ROFQFMO QS CGSZG QFMO DHTROCQ ZQFZG OS DOG EQDDOFG EIOO VAO HTP POZGPFQP HOS CGSZT CGSZG ZTDHTPQ RQS HPOFEOHOG RTS DQZZOFG T S LGS DGFZQCQ F LA EGF BATSST LZTSST EITPQF EGF SAO BAQFRG OQDGP ROCOFG DGLLT RO HPODQ BATSST EGLT NTSST LO EIQ NTFT LHTPQP DTPQ EQUOGFT RO BATSSQ VOTPQ Q SQ UQTZZQ HTSST SGPQ RTS ZTDHG T SQ RGSET LZQUOGFT DQ FGF LO EIT HQAPQ FGF DO RTLLT SQ COLZQ EIT DQHHQPCT RAF STGFT BATLZO HQPTQ EIT EGFZPQ DT CTFOLLT EGF SQ ZTLZQSZQ T EGF PQNNOGLQ VQDT LO EIT HQPTQ EIT SQTPT FT ZPTDTLLT TR AFQ SAHQ EIT RO ZAZZT NPQDT LTDNOQCQ EQPEQ FT SQ LAQ DQUPTMMQ T DGSZT UTFZO V UOQ COCTP UPQDT BATLZQ DO HGPLT ZQFZG RO UPQCTMMQ EGF SQ HQAPQ EIALEOQ RO LAQ COLZQ EIOG HTPRTO SQ LHTPQFMQ RT OQSZTMMQ T BAQS BATO EIT CGSGFZOTPO QEBAOLZQ T UOAUFT S ZTDHG EIT HTPRTP SG VQET EIT F ZAZZO LAGO HTFLOTP HOQFUT T LQZZPOLZQ ZQS DO VTET SQ NTLZOQ LQFMQ HQET EIT CTFTFRGDO FEGFZPG Q HGEG Q HGEG DO POHOUFTCQ SQ RGCT O LGS ZQET DTFZPT EIO PGCOFQCQ OF NQLLG SGEG ROFQFMO Q SO GEEIO DO LO VA GVVTPZG EIO HTP SAFUG LOSTFMOG HQPTQ VOGEG BAQFRG CORO EGLZAO FTS UPQF ROLTPZG DOLTPTPT RODT UPORQO Q SAO BAQS EIT ZA LOO GR GDNPQ GR GDG ETPZG POLHAGLTDO FGF GDG GDG UOQ VAO T SO HQPTFZO DOTO VAPGF SGDNQPRO DQFZGQFO HTP HQZPOQ QDNTRAO FQEBAO LAN SASOG QFEGP EIT VGLLT ZQPRO T COLLO Q PGDQ LGZZG NAGFG QAUALZG FTS ZTDHG RT SO RO VQSLO T NAUOQPRO HGTZQ VAO T EQFZQO RO BATS UOALZG VOUSOAGS RQFEIOLT EIT CTFFT RO ZPGOQ HGO EIT S LAHTPNG OSOF VA EGDNALZG DQ ZA HTPEI POZGPFO Q ZQFZQ FGOQ HTPEI FGF LQSO OS ROSTZZGLG DGFZT EI HPOFEOHOG T EQUOGF RO ZAZZQ UOGOQ GP LT ZA BATS COPUOSOG T BATSSQ VGFZT EIT LHQFRO RO HQPSQP LO SQPUG VOADT POLHAGLOG SAO EGF CTPUGUFGLQ VPGFZT G RTSO QSZPO HGTZO GFGPT T SADT CQUSOQDO O SAFUG LZAROG T S UPQFRT QDGPT EIT DIQ VQZZG ETPEQP SG ZAG CGSADT ZA LT SG DOG DQTLZPG TS DOG QAZGPT ZA LT LGSG EGSAO RQ EA OG ZGSLO SG NTSSG LZOSG EIT DIQ VQZZG GFGPT CTRO SQ NTLZOQ HTP EA OG DO CGSLO QOAZQDO RQ STO VQDGLG LQUUOG EITSSQ DO VQ ZPTDQP ST CTFT T O HGSLO Q ZT EGFCOTF ZTFTPT QSZPG COQUUOG POLHAGLT HGO EIT SQUPODQP DO CORT LT CAG EQDHQP RTLZG SGEG LTSCQUUOG EI BATLZQ NTLZOQ HTP SQ BAQS ZA UPORT FGF SQLEOQ QSZPAO HQLLQP HTP SQ LAQ COQ DQ ZQFZG SG DHTROLET EIT SAEEORT T IQ FQZAPQ LO DQSCQUOQ T POQ EIT DQO FGF TDHOT SQ NPQDGLQ CGUSOQ T RGHG S HQLZG IQ HOZ VQDT EIT HPOQ DGSZO LGF SO QFODQSO Q EAO LQDDGUSOQ T HOSS LQPQFFG QFEGPQ OFVOF EIT O CTSZPG CTPPQ EIT SQ VQPQ DGPOP EGF RGUSOQ BATLZO FGF EONTPQ ZTPPQ F HTSZPG DQ LQHOTFMQ QDGPT T COPZAZT T LAQ FQMOGF LQPQ ZPQ VTSZPG T VTSZPG\"\n",
        "print(\"La lunghezza del messaggio da decifrare è \" + str(len(messaggio)) + \".\")\n",
        "\n",
        "# Stampa il messaggio su più righe\n",
        "print(\"\\nIl messaggio da decifrare è: \")\n",
        "for i in range(0, len(messaggio), 108):\n",
        "  print(messaggio[i : i + 108])"
      ]
    },
    {
      "cell_type": "markdown",
      "metadata": {
        "id": "Li76mR2TXHhY"
      },
      "source": [
        "# Analisi delle frequenze\n",
        "Questo tipo di cifrario è vulnerabile all'analisi delle frequenze, un metodo che permette di dedurre la chiave confrontando la frequenza delle lettere nel testo cifrato con quella tipica della lingua del messaggio originale.\n",
        "\n",
        "### Step 1\n",
        "Esegui il codice qui sotto per ottenere la tabella con la frequenza di ogni lettera (cioè il numero di volte che compare nel messaggio cifrato)."
      ]
    },
    {
      "cell_type": "code",
      "execution_count": null,
      "metadata": {
        "colab": {
          "base_uri": "https://localhost:8080/"
        },
        "id": "r1V7nw2OzPz9",
        "outputId": "d220ebc5-d6a5-4cc2-a924-bc0c3d899f0d"
      },
      "outputs": [],
      "source": [
        "# Ora studiamo la frequenza delle lettere nel messaggio\n",
        "# per prima cosa costruiamo una funzione chiamata analisi_frequenze che calcola\n",
        "# e restituisce quando spesso compare ogni lettera\n",
        "def analisi_frequenze(messaggio):\n",
        "    # Rimuove dal messaggio tutto ciò che non è una lettera (gli spazi, ad esempio)\n",
        "    messaggio_senza_spazi = ''.join(lettera for lettera in messaggio if lettera in lettere_italiane)\n",
        "\n",
        "    # Conta le frequenze delle lettere\n",
        "    frequenze = Counter(messaggio_senza_spazi)\n",
        "\n",
        "    # Aggiunge le lettere mancanti con frequenza 0 (non è detto che tutte le lettere siano presenti nel messaggio!)\n",
        "    for lettera in lettere_italiane:\n",
        "        if lettera not in frequenze:\n",
        "            frequenze[lettera] = 0\n",
        "    \n",
        "    # Ordina le lettere in modo decrescente\n",
        "    frequenze_ordinate = sorted(frequenze.items(), key=lambda elemento: elemento[1], reverse=True)\n",
        "\n",
        "    # Stampa il risultato\n",
        "    print(\"Frequenze delle lettere:\")\n",
        "    for lettera, occorrenze in frequenze_ordinate:\n",
        "        print(f\"{lettera}: {occorrenze}\")\n",
        "\n",
        "    return frequenze_ordinate\n",
        "\n",
        "# Step 1: Analisi delle frequenze\n",
        "frequenze_ordinate = analisi_frequenze(messaggio)"
      ]
    },
    {
      "cell_type": "markdown",
      "metadata": {
        "id": "tGIFwy2Pb5is"
      },
      "source": [
        "In italiano, in media, le lettere si trovano nelle frasi con la frequenza descritta in questa tabella:\n",
        "\n",
        "| LETTERA | FREQUENZA |\n",
        "|---------|-----------|\n",
        "| E       | 11.79%    |\n",
        "| A       | 11.74%    |\n",
        "| I       | 11.28%    |\n",
        "| O       | 9.83%     |\n",
        "| N       | 6.88%     |\n",
        "| L       | 6.51%     |\n",
        "| R       | 6.37%     |\n",
        "| T       | 5.62%     |\n",
        "| S       | 4.98%     |\n",
        "| C       | 4.50%     |\n",
        "| D       | 3.73%     |\n",
        "| P       | 3.05%     |\n",
        "| U       | 3.01%     |\n",
        "| M       | 2.51%     |\n",
        "| V       | 2.10%     |\n",
        "| G       | 1.64%     |\n",
        "| H       | 1.54%     |\n",
        "| F       | 0.95%     |\n",
        "| B       | 0.92%     |\n",
        "| Q       | 0.51%     |\n",
        "| Z       | 0.49%     |\n",
        "| J       | 0%     |\n",
        "| K       | 0%     |\n",
        "| W       | 0%     |\n",
        "| X       | 0%     |\n",
        "| Y       | 0%     |"
      ]
    },
    {
      "cell_type": "markdown",
      "metadata": {
        "id": "wQMOccki04Aj"
      },
      "source": [
        "### Step 2\n",
        "\n",
        "**Ora tocca a te**: costruisci una tabella di sostituzione inversa (per decifrare!) basandoti sull'analisi delle frequenze.\n",
        "\n",
        "L'idea è ipotizzare che la lettera più frequente nel messaggio cifrato corrisponda alla più comune in italiano (la E), la seconda più frequente nel cifrato corrisponda alla seconda più frequente in italiano (la A), e così via. Ad esempio, se la lettera più comune nel messaggio cifrato è la Q, possiamo immaginare che nel messaggio originale questa fosse una E (o forse una A...).\n",
        "\n",
        "Completa le parti di codice come indicato nei commenti."
      ]
    },
    {
      "cell_type": "code",
      "execution_count": null,
      "metadata": {
        "id": "mdC7oIKC-4hp"
      },
      "outputs": [],
      "source": [
        "def costruisci_tabella(frequenze_ordinate):\n",
        "    # Inizializza la tabella che servirà dopo...\n",
        "    tabella_sostituzione_inversa = {}\n",
        "    # Proponi una sostituzione basandoti sulle frequenze trovate\n",
        "    lettere_ordinate_italiano = [\"E\", \"A\", \"I\", \"O\", \"N\", \"L\", \"R\", \"T\", \"S\", \"C\", \"D\", \"P\", \"U\", \"M\", \"V\", \"G\", \"H\", \"F\", \"B\", \"Q\", \"Z\"]\n",
        "\n",
        "    # Definisci un vettore chiamato lettere_ordinate_messaggio che contiene tutte le lettere dell'alfabeto,\n",
        "    # ordinate dalla più presente nel messaggio cifrato a quella meno presente\n",
        "    # Usa il vettore frequenze_ordinate costruito allo Step 1 \n",
        "    lettere_ordinate_messaggio = [elemento[0] for elemento in frequenze_ordinate]\n",
        "    \n",
        "    ############# SCRIVI QUI IL TUO CODICE #############\n",
        "    # ISTRUZIONI: riempi il dizionario python che si chiama \"tabella_sostituzione_inversa\".\n",
        "    # Ti ricordo che un dizionario associa ad ogni \"parola chiave\" un \"valore\" (come in una rubrica telefonica, in\n",
        "    # cui ad ogni nome è associato un numero di telefono).\n",
        "    # Usa gli elementi della lista lettere_ordinate_messaggio per le chiavi e quelli di lettere_ordinate_italiano per i valori\n",
        "    # Esempio: tabella_sostituzione_inversa[\"Q\"] = \"E\" (significa che la lettera Q nel messaggio cifrato sarà sostituita con una E).\n",
        "    # SOLUZIONE\n",
        "    for i in range(len(lettere_ordinate_italiano)):\n",
        "        tabella_sostituzione_inversa[lettere_ordinate_messaggio[i]] = lettere_ordinate_italiano[i]\n",
        "\n",
        "    ############# SCRIVI QUI IL TUO CODICE #############\n",
        "    # ISTRUZIONI: qui ti consiglio di stampare tabella_sostituzione_inversa (magari in più righe, usando un ciclo for)\n",
        "    # per capire cosa sta succedendo!\n",
        "    # SOLUZIONE\n",
        "    print(\"\\nProposta di tabella di sostituzione inversa:\")\n",
        "    print(tabella_sostituzione_inversa)\n",
        "\n",
        "    print(\"\\nOvvero (lettera cifrata -> lettera originale):\")\n",
        "    for lettera_cifrata in tabella_sostituzione_inversa.keys():\n",
        "      print(lettera_cifrata + \" -> \" + tabella_sostituzione_inversa[lettera_cifrata])\n",
        "\n",
        "    return tabella_sostituzione_inversa\n",
        "\n",
        "# Step 2: costruisci tabella sulla base dell'analisi delle frequenze\n",
        "tabella_sostituzione_inversa = costruisci_tabella(frequenze_ordinate)"
      ]
    },
    {
      "cell_type": "markdown",
      "metadata": {
        "id": "auWpNJRj-66K"
      },
      "source": [
        "### Step 3\n",
        "Prova a decifrare il messaggio usando la tabella di sostituzione apppena ricavata."
      ]
    },
    {
      "cell_type": "code",
      "execution_count": null,
      "metadata": {
        "colab": {
          "base_uri": "https://localhost:8080/"
        },
        "collapsed": true,
        "id": "t7jwjBOp-6j-",
        "outputId": "5584d913-41a5-46ef-f8d7-8b85f0171d87"
      },
      "outputs": [],
      "source": [
        "# Questa funzione riceve in input un messaggio cifrato e la chiave (tabella di sostituzione inversa)\n",
        "# usando la tabella, restituisce il messaggio decifrato\n",
        "def decifra(messaggio_cifrato, tabella_sostituzione_inversa):\n",
        "    messaggio = ''\n",
        "    for elemento in messaggio_cifrato:\n",
        "        if elemento in lettere_italiane:\n",
        "            messaggio += tabella_sostituzione_inversa[elemento]\n",
        "        else:\n",
        "            messaggio += elemento\n",
        "\n",
        "    # Risultato\n",
        "    print(\"\\nMessaggio decifrato:\")\n",
        "    # Stampa il messaggio su più righe\n",
        "    for i in range(0, len(messaggio), 108):\n",
        "        print(messaggio[i : i + 108])\n",
        "\n",
        "    return messaggio\n",
        "\n",
        "# Step 3: Sostituzione\n",
        "testo_decifrato = decifra(messaggio, tabella_sostituzione_inversa)"
      ]
    },
    {
      "cell_type": "markdown",
      "metadata": {
        "id": "fdwwJX9S--kI"
      },
      "source": [
        "### Step 4\n",
        "Se il passaggio precedente non ha funzionato (non hai ottenuto un messaggio comprensibile), prova a modificare un po' la tabella di sostituzione fino a che non riesci a decifrare il messaggio.\n",
        "\n",
        "Troverai una `tabella_sostituzione_inversa` come riferimento (è quella creata con l'analisi delle frequenze) e una `tabella_sostituzione_inversa_nuova` che puoi modificare e usare per provare di nuovo a decifrare.\n",
        "\n",
        "**Nota bene:**\n",
        "1. Scegli le modifiche da fare tenendo comunque conto dell'analisi delle frequenze nella lingua italiana e cerca di ottenere parole di senso compiuto. Magari fai una modifica alla volta...\n",
        "1. Ti suggeriamo di cambiare solo i valori e non le chiavi di `tabella_sostituzione_inversa_nuova`, ovvero solo le lettere originali, per non perdere pezzi. Esempio: se pensi che la Q sia da decifrare come una A, invece che come una E, come suggerito dall'analisi delle frequenze, puoi modificare la tabella da così: `{'Q': 'E', 'T': 'A', ...}` a così: `{'Q': 'A', 'T': 'E', ...}`.\n",
        "1. Se dovessi provare tutte le possibili combinazioni, senza l'aiuto dell'analisi delle frequenze, dovresti tentare un numero nell'ordine di $10^{19}$ tabelle diverse!"
      ]
    },
    {
      "cell_type": "code",
      "execution_count": null,
      "metadata": {
        "colab": {
          "base_uri": "https://localhost:8080/"
        },
        "id": "nd_y5g7v--TS",
        "outputId": "8eb88b06-8d38-4db0-b841-96fada99b2a7"
      },
      "outputs": [],
      "source": [
        "# Non modificare questa tabella, ma usala come riferimento per costruirne una nuova\n",
        "# (se necessario, copia e incolla sotto il suo contenuto per ricominciare da capo i tentativi)\n",
        "tabella_sostituzione_inversa = {\n",
        "    'Q': 'E',    'T': 'A',    'O': 'I',    'G': 'O',  \n",
        "    'P': 'N',    'S': 'L',    'Z': 'R',    'F': 'T',  \n",
        "    'L': 'S',    'E': 'C',    'A': 'D',    'D': 'P',  \n",
        "    'H': 'U',    'R': 'M',    'C': 'V',    'U': 'G',  \n",
        "    'I': 'H',    'V': 'F',    'B': 'B',    'N': 'Q',  \n",
        "    'M': 'Z'\n",
        "}\n",
        "\n",
        "# Come aiuto, ristampiamo la prima parte del messaggio da decifrare\n",
        "print(\"\\nIl messaggio da decifrare è: \")\n",
        "print(messaggio[0 : 0 + 108] + \"...\")\n",
        "\n",
        "############# MODIFICA QUESTA TABELLA #############\n",
        "# NB: tabella_sostituzione_inversa_nuova[lettera_cifrata] = lettera_originale\n",
        "# SOLUZIONE\n",
        "tabella_sostituzione_inversa_nuova = {\n",
        "    'Q': 'A',    'T': 'E',    'O': 'I',    'G': 'O',  \n",
        "    'S': 'L',    'P': 'R',    'Z': 'T',    'F': 'N',  \n",
        "    'L': 'S',    'E': 'C',    'H': 'P',    'D': 'M',  \n",
        "    'A': 'U',    'R': 'D',    'C': 'V',    'U': 'G',  \n",
        "    'I': 'H',    'V': 'F',    'N': 'B',    'B': 'Q',  \n",
        "    'M': 'Z'\n",
        "}\n",
        "\n",
        "# Step 4: Sostituzione\n",
        "messaggio_decifrato = decifra(messaggio, tabella_sostituzione_inversa_nuova)"
      ]
    },
    {
      "cell_type": "markdown",
      "metadata": {
        "id": "61bIkm21HM0S"
      },
      "source": [
        "### Step 5: qualche indizio\n",
        "\n",
        "Leggi le indicazioni sotto **solo se vuoi alcuni indizi** (consiglio di leggerne uno alla volta).\n",
        "\n",
        "Dopo aver letto un indizio, **torna allo Step 4, modifica \"tabella_sostituzione_inversa_nuova\" e riprova a decifrare il messaggio**!\n",
        "\n",
        "#### Indizio 1\n",
        "Le vocali della tabella di sostituzione proposta grazie all'analisi delle frquenze quasi tutte corrette: \n",
        "- la E e la A vanno invertite nella tabella di sostituzione inversa! (Quindi la sostituzione diventa: Q --> A; T --> E)\n",
        "- e poi aggiustare anche la U... ma il messaggio si può capire lo stesso...\n",
        "\n",
        "### Indizio 2\n",
        "Se hai applicato il primo indizio dovresti aver ottenuto il seguente messaggio decifrato:\n",
        "\n",
        "TEL PEZZO MEL CAPPIT MI TOSRNA VIRA PI NIRNOVAI UEN DTA SELVA OSCDNA...\n",
        "\n",
        "Osservalo bene... Non ti ricorda qualche **testo che già conosci**...?\n",
        "\n",
        "### Indizio 3\n",
        "Se hai capito di che testo si tratta, ora è semplice! Puoi completare le modifiche necessarie alla tabella di sostituzione inversa perché conosci il messaggio...!"
      ]
    },
    {
      "cell_type": "markdown",
      "metadata": {},
      "source": [
        "I notebook sono stati realizzati da [Federico Caretti](https://github.com/fcaretti) (per la parte di data science e machine learning) e da [Marta Fornasier](https://github.com/MartaFornasier) (per la parte di crittografia), in collaborazione con [SISSA Medialab](https://medialab.sissa.it/it), nel contesto del percorso di orientamento *\"Il mondo dei dati: tra ricerca e società\"* organizzato presso la SISSA. Possono essere utilizzati citando gli autori."
      ]
    }
  ],
  "metadata": {
    "colab": {
      "provenance": []
    },
    "kernelspec": {
      "display_name": "env",
      "language": "python",
      "name": "python3"
    },
    "language_info": {
      "codemirror_mode": {
        "name": "ipython",
        "version": 3
      },
      "file_extension": ".py",
      "mimetype": "text/x-python",
      "name": "python",
      "nbconvert_exporter": "python",
      "pygments_lexer": "ipython3",
      "version": "3.13.2"
    }
  },
  "nbformat": 4,
  "nbformat_minor": 0
}
